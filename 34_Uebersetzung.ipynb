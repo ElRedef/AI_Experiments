{
 "cells": [
  {
   "cell_type": "code",
   "id": "initial_id",
   "metadata": {
    "collapsed": true,
    "jupyter": {
     "is_executing": true
    }
   },
   "source": [
    "text = \"Be the change you wish to see in the world.\"\n",
    "print(text)"
   ],
   "outputs": [],
   "execution_count": null
  },
  {
   "metadata": {
    "ExecuteTime": {
     "end_time": "2025-08-21T17:25:17.164024Z",
     "start_time": "2025-08-21T17:24:58.168383Z"
    }
   },
   "cell_type": "code",
   "source": [
    "from transformers import pipeline\n",
    "translator = pipeline('translation', model='Mitsua/elan-mt-bt-en-ja')\n",
    "translator('Hello. I am an AI.')"
   ],
   "id": "fc3b94768efbc6dc",
   "outputs": [
    {
     "data": {
      "text/plain": [
       "[{'translation_text': 'もしもし、私はAIです。'}]"
      ]
     },
     "execution_count": 1,
     "metadata": {},
     "output_type": "execute_result"
    }
   ],
   "execution_count": 1
  },
  {
   "metadata": {
    "ExecuteTime": {
     "end_time": "2025-08-21T17:22:50.754702Z",
     "start_time": "2025-08-21T17:22:50.085120Z"
    }
   },
   "cell_type": "code",
   "source": "translator(text)",
   "id": "32204a064452e21c",
   "outputs": [
    {
     "data": {
      "text/plain": [
       "[{'translation_text': '世の中の見たい変化になれ。'}]"
      ]
     },
     "execution_count": 5,
     "metadata": {},
     "output_type": "execute_result"
    }
   ],
   "execution_count": 5
  }
 ],
 "metadata": {
  "kernelspec": {
   "display_name": "Python 3",
   "language": "python",
   "name": "python3"
  },
  "language_info": {
   "codemirror_mode": {
    "name": "ipython",
    "version": 2
   },
   "file_extension": ".py",
   "mimetype": "text/x-python",
   "name": "python",
   "nbconvert_exporter": "python",
   "pygments_lexer": "ipython2",
   "version": "2.7.6"
  }
 },
 "nbformat": 4,
 "nbformat_minor": 5
}
