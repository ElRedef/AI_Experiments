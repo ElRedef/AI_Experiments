{
 "cells": [
  {
   "cell_type": "code",
   "execution_count": 1,
   "id": "initial_id",
   "metadata": {
    "collapsed": true,
    "jupyter": {
     "is_executing": true
    }
   },
   "outputs": [
    {
     "name": "stdout",
     "output_type": "stream",
     "text": [
      "Be the change you wish to see in the world.\n"
     ]
    }
   ],
   "source": [
    "text = \"Be the change you wish to see in the world.\"\n",
    "print(text)"
   ]
  },
  {
   "cell_type": "code",
   "execution_count": 2,
   "id": "fc3b94768efbc6dc",
   "metadata": {
    "ExecuteTime": {
     "end_time": "2025-08-21T17:25:17.164024Z",
     "start_time": "2025-08-21T17:24:58.168383Z"
    }
   },
   "outputs": [
    {
     "name": "stderr",
     "output_type": "stream",
     "text": [
      "Device set to use cpu\n"
     ]
    },
    {
     "data": {
      "text/plain": [
       "[{'translation_text': 'もしもし、私はAIです。'}]"
      ]
     },
     "execution_count": 2,
     "metadata": {},
     "output_type": "execute_result"
    }
   ],
   "source": [
    "from transformers import pipeline\n",
    "translator = pipeline('translation', model='Mitsua/elan-mt-bt-en-ja')\n",
    "translator('Hello. I am an AI.')"
   ]
  },
  {
   "cell_type": "code",
   "execution_count": 3,
   "id": "32204a064452e21c",
   "metadata": {
    "ExecuteTime": {
     "end_time": "2025-08-21T17:22:50.754702Z",
     "start_time": "2025-08-21T17:22:50.085120Z"
    }
   },
   "outputs": [
    {
     "data": {
      "text/plain": [
       "[{'translation_text': '世の中の見たい変化になれ。'}]"
      ]
     },
     "execution_count": 3,
     "metadata": {},
     "output_type": "execute_result"
    }
   ],
   "source": [
    "translator(text)"
   ]
  }
 ],
 "metadata": {
  "kernelspec": {
   "display_name": "rheinwerk-appliedgenai",
   "language": "python",
   "name": "python3"
  },
  "language_info": {
   "codemirror_mode": {
    "name": "ipython",
    "version": 3
   },
   "file_extension": ".py",
   "mimetype": "text/x-python",
   "name": "python",
   "nbconvert_exporter": "python",
   "pygments_lexer": "ipython3",
   "version": "3.12.3"
  }
 },
 "nbformat": 4,
 "nbformat_minor": 5
}
